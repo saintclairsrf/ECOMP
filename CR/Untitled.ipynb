{
 "cells": [
  {
   "cell_type": "code",
   "execution_count": 9,
   "metadata": {},
   "outputs": [],
   "source": [
    "import numpy as np\n",
    "import igraph as ig\n",
    "from igraph import *\n",
    "import time"
   ]
  },
  {
   "cell_type": "code",
   "execution_count": 27,
   "metadata": {},
   "outputs": [],
   "source": [
    "# function to check if x is power of 2 \n",
    "def isPowerOfTwo( x ): \n",
    "  \n",
    "    # First x in the below expression is \n",
    "    # for the case when x is 0 \n",
    "    return x and (not(x & (x - 1))) \n",
    "  \n",
    "# function to check whether the two numbers \n",
    "# differ at one bit position only \n",
    "def differAtOneBitPos( a , b ): \n",
    "    return isPowerOfTwo(a ^ b) \n",
    "\n",
    "#Função graph é lenta para n grandes, estimo que ela seja O(n²)\n",
    "def graph(n):\n",
    "  vertices = 2 ** n\n",
    "  arestas = []\n",
    "  grafo = Graph()\n",
    "  grafo.add_vertices(vertices)\n",
    "\n",
    "  for x in range(vertices):\n",
    "    for y in range(vertices):\n",
    "      if (differAtOneBitPos(x, y)):\n",
    "        if (y,x) not in arestas:\n",
    "          arestas.append((x,y))\n",
    "\n",
    "  grafo.add_edges(arestas)\n",
    "\n",
    "  return grafo, arestas"
   ]
  },
  {
   "cell_type": "code",
   "execution_count": 28,
   "metadata": {},
   "outputs": [
    {
     "name": "stdout",
     "output_type": "stream",
     "text": [
      "IGRAPH U--- 8 12 --\n",
      "+ edges:\n",
      "0 -- 1 2 4   2 -- 0 3 6   4 -- 0 5 6   6 -- 2 4 7\n",
      "1 -- 0 3 5   3 -- 1 2 7   5 -- 1 4 7   7 -- 3 5 6\n",
      "------\n",
      "[(0, 1), (0, 2), (0, 4), (1, 3), (1, 5), (2, 3), (2, 6), (3, 7), (4, 5), (4, 6), (5, 7), (6, 7)]\n"
     ]
    }
   ],
   "source": [
    "grafo, arestas = graph(3)\n",
    "\n",
    "print(grafo)\n",
    "print(\"------\")\n",
    "print(arestas)\n",
    "tempoExecucao = []"
   ]
  },
  {
   "cell_type": "code",
   "execution_count": 32,
   "metadata": {},
   "outputs": [
    {
     "data": {
      "image/svg+xml": [
       "<?xml version=\"1.0\" encoding=\"UTF-8\"?>\n",
       "<svg xmlns=\"http://www.w3.org/2000/svg\" xmlns:xlink=\"http://www.w3.org/1999/xlink\" width=\"600pt\" height=\"600pt\" viewBox=\"0 0 600 600\" version=\"1.1\">\n",
       "<g id=\"surface616\">\n",
       "<rect x=\"0\" y=\"0\" width=\"600\" height=\"600\" style=\"fill:rgb(100%,100%,100%);fill-opacity:1;stroke:none;\"/>\n",
       "<path style=\"fill:none;stroke-width:1;stroke-linecap:butt;stroke-linejoin:miter;stroke:rgb(26.666667%,26.666667%,26.666667%);stroke-opacity:1;stroke-miterlimit:10;\" d=\"M 580 418.035156 L 336.042969 580 \"/>\n",
       "<path style=\"fill:none;stroke-width:1;stroke-linecap:butt;stroke-linejoin:miter;stroke:rgb(26.666667%,26.666667%,26.666667%);stroke-opacity:1;stroke-miterlimit:10;\" d=\"M 580 418.035156 L 253.113281 331.679688 \"/>\n",
       "<path style=\"fill:none;stroke-width:1;stroke-linecap:butt;stroke-linejoin:miter;stroke:rgb(26.666667%,26.666667%,26.666667%);stroke-opacity:1;stroke-miterlimit:10;\" d=\"M 580 418.035156 L 572.925781 118.550781 \"/>\n",
       "<path style=\"fill:none;stroke-width:1;stroke-linecap:butt;stroke-linejoin:miter;stroke:rgb(26.666667%,26.666667%,26.666667%);stroke-opacity:1;stroke-miterlimit:10;\" d=\"M 336.042969 580 L 27.070313 481.449219 \"/>\n",
       "<path style=\"fill:none;stroke-width:1;stroke-linecap:butt;stroke-linejoin:miter;stroke:rgb(26.666667%,26.666667%,26.666667%);stroke-opacity:1;stroke-miterlimit:10;\" d=\"M 336.042969 580 L 346.882813 268.320313 \"/>\n",
       "<path style=\"fill:none;stroke-width:1;stroke-linecap:butt;stroke-linejoin:miter;stroke:rgb(26.666667%,26.666667%,26.666667%);stroke-opacity:1;stroke-miterlimit:10;\" d=\"M 253.113281 331.679688 L 27.070313 481.449219 \"/>\n",
       "<path style=\"fill:none;stroke-width:1;stroke-linecap:butt;stroke-linejoin:miter;stroke:rgb(26.666667%,26.666667%,26.666667%);stroke-opacity:1;stroke-miterlimit:10;\" d=\"M 253.113281 331.679688 L 263.953125 20 \"/>\n",
       "<path style=\"fill:none;stroke-width:1;stroke-linecap:butt;stroke-linejoin:miter;stroke:rgb(26.666667%,26.666667%,26.666667%);stroke-opacity:1;stroke-miterlimit:10;\" d=\"M 27.070313 481.449219 L 20 181.960938 \"/>\n",
       "<path style=\"fill:none;stroke-width:1;stroke-linecap:butt;stroke-linejoin:miter;stroke:rgb(26.666667%,26.666667%,26.666667%);stroke-opacity:1;stroke-miterlimit:10;\" d=\"M 572.925781 118.550781 L 346.882813 268.320313 \"/>\n",
       "<path style=\"fill:none;stroke-width:1;stroke-linecap:butt;stroke-linejoin:miter;stroke:rgb(26.666667%,26.666667%,26.666667%);stroke-opacity:1;stroke-miterlimit:10;\" d=\"M 572.925781 118.550781 L 263.953125 20 \"/>\n",
       "<path style=\"fill:none;stroke-width:1;stroke-linecap:butt;stroke-linejoin:miter;stroke:rgb(26.666667%,26.666667%,26.666667%);stroke-opacity:1;stroke-miterlimit:10;\" d=\"M 346.882813 268.320313 L 20 181.960938 \"/>\n",
       "<path style=\"fill:none;stroke-width:1;stroke-linecap:butt;stroke-linejoin:miter;stroke:rgb(26.666667%,26.666667%,26.666667%);stroke-opacity:1;stroke-miterlimit:10;\" d=\"M 263.953125 20 L 20 181.960938 \"/>\n",
       "<path style=\"fill-rule:nonzero;fill:rgb(100%,0%,0%);fill-opacity:1;stroke-width:1;stroke-linecap:butt;stroke-linejoin:miter;stroke:rgb(0%,0%,0%);stroke-opacity:1;stroke-miterlimit:10;\" d=\"M 590 418.035156 C 590 423.558594 585.523438 428.035156 580 428.035156 C 574.476563 428.035156 570 423.558594 570 418.035156 C 570 412.511719 574.476563 408.035156 580 408.035156 C 585.523438 408.035156 590 412.511719 590 418.035156 \"/>\n",
       "<path style=\"fill-rule:nonzero;fill:rgb(100%,0%,0%);fill-opacity:1;stroke-width:1;stroke-linecap:butt;stroke-linejoin:miter;stroke:rgb(0%,0%,0%);stroke-opacity:1;stroke-miterlimit:10;\" d=\"M 346.042969 580 C 346.042969 585.523438 341.566406 590 336.042969 590 C 330.519531 590 326.042969 585.523438 326.042969 580 C 326.042969 574.476563 330.519531 570 336.042969 570 C 341.566406 570 346.042969 574.476563 346.042969 580 \"/>\n",
       "<path style=\"fill-rule:nonzero;fill:rgb(100%,0%,0%);fill-opacity:1;stroke-width:1;stroke-linecap:butt;stroke-linejoin:miter;stroke:rgb(0%,0%,0%);stroke-opacity:1;stroke-miterlimit:10;\" d=\"M 263.113281 331.679688 C 263.113281 337.203125 258.636719 341.679688 253.113281 341.679688 C 247.59375 341.679688 243.113281 337.203125 243.113281 331.679688 C 243.113281 326.15625 247.59375 321.679688 253.113281 321.679688 C 258.636719 321.679688 263.113281 326.15625 263.113281 331.679688 \"/>\n",
       "<path style=\"fill-rule:nonzero;fill:rgb(100%,0%,0%);fill-opacity:1;stroke-width:1;stroke-linecap:butt;stroke-linejoin:miter;stroke:rgb(0%,0%,0%);stroke-opacity:1;stroke-miterlimit:10;\" d=\"M 37.070313 481.449219 C 37.070313 486.96875 32.59375 491.449219 27.070313 491.449219 C 21.546875 491.449219 17.070313 486.96875 17.070313 481.449219 C 17.070313 475.925781 21.546875 471.449219 27.070313 471.449219 C 32.59375 471.449219 37.070313 475.925781 37.070313 481.449219 \"/>\n",
       "<path style=\"fill-rule:nonzero;fill:rgb(100%,0%,0%);fill-opacity:1;stroke-width:1;stroke-linecap:butt;stroke-linejoin:miter;stroke:rgb(0%,0%,0%);stroke-opacity:1;stroke-miterlimit:10;\" d=\"M 582.925781 118.550781 C 582.925781 124.074219 578.449219 128.550781 572.925781 128.550781 C 567.402344 128.550781 562.925781 124.074219 562.925781 118.550781 C 562.925781 113.027344 567.402344 108.550781 572.925781 108.550781 C 578.449219 108.550781 582.925781 113.027344 582.925781 118.550781 \"/>\n",
       "<path style=\"fill-rule:nonzero;fill:rgb(100%,0%,0%);fill-opacity:1;stroke-width:1;stroke-linecap:butt;stroke-linejoin:miter;stroke:rgb(0%,0%,0%);stroke-opacity:1;stroke-miterlimit:10;\" d=\"M 356.882813 268.320313 C 356.882813 273.839844 352.40625 278.320313 346.882813 278.320313 C 341.359375 278.320313 336.882813 273.839844 336.882813 268.320313 C 336.882813 262.796875 341.359375 258.320313 346.882813 258.320313 C 352.40625 258.320313 356.882813 262.796875 356.882813 268.320313 \"/>\n",
       "<path style=\"fill-rule:nonzero;fill:rgb(100%,0%,0%);fill-opacity:1;stroke-width:1;stroke-linecap:butt;stroke-linejoin:miter;stroke:rgb(0%,0%,0%);stroke-opacity:1;stroke-miterlimit:10;\" d=\"M 273.953125 20 C 273.953125 25.523438 269.476563 30 263.953125 30 C 258.433594 30 253.953125 25.523438 253.953125 20 C 253.953125 14.476563 258.433594 10 263.953125 10 C 269.476563 10 273.953125 14.476563 273.953125 20 \"/>\n",
       "<path style=\"fill-rule:nonzero;fill:rgb(100%,0%,0%);fill-opacity:1;stroke-width:1;stroke-linecap:butt;stroke-linejoin:miter;stroke:rgb(0%,0%,0%);stroke-opacity:1;stroke-miterlimit:10;\" d=\"M 30 181.960938 C 30 187.484375 25.523438 191.960938 20 191.960938 C 14.476563 191.960938 10 187.484375 10 181.960938 C 10 176.441406 14.476563 171.960938 20 171.960938 C 25.523438 171.960938 30 176.441406 30 181.960938 \"/>\n",
       "</g>\n",
       "</svg>\n"
      ],
      "text/plain": [
       "<igraph.drawing.Plot at 0x2c17b0a3448>"
      ]
     },
     "execution_count": 32,
     "metadata": {
      "image/svg+xml": {
       "isolated": true
      }
     },
     "output_type": "execute_result"
    }
   ],
   "source": [
    "tabLayout=[]\n",
    "tabLayout=[\"random\",\"circle\",\"star\",\"grid\",\"graphopt\",\"kamada_kawai\",\"fruchterman_reingold\",\"davidson_harel\",\"mds\",\"lgl\"]\n",
    "tab=[]\n",
    "i=1\n",
    "# for i in range(len(tabLayout)):\n",
    "layout = grafo.layout(tabLayout[i])\n",
    "inicio = time.time()\n",
    "plot(grafo,\"graph.pdf\", layout=layout)\n",
    "layout = grafo.layout(\"kk\")\n",
    "plot(grafo,\"graph.pdf\", layout=layout)\n"
   ]
  },
  {
   "cell_type": "code",
   "execution_count": 25,
   "metadata": {},
   "outputs": [
    {
     "name": "stdout",
     "output_type": "stream",
     "text": [
      "Number of vertices in the graph: 8\n",
      "Number of edges in the graph 12\n",
      "Is the graph directed: False\n",
      "Maximum degree in the graph: 3\n",
      "Adjacency matrix:\n",
      " [[0, 1, 1, 0, 1, 0, 0, 0]\n",
      " [1, 0, 0, 1, 0, 1, 0, 0]\n",
      " [1, 0, 0, 1, 0, 0, 1, 0]\n",
      " [0, 1, 1, 0, 0, 0, 0, 1]\n",
      " [1, 0, 0, 0, 0, 1, 1, 0]\n",
      " [0, 1, 0, 0, 1, 0, 0, 1]\n",
      " [0, 0, 1, 0, 1, 0, 0, 1]\n",
      " [0, 0, 0, 1, 0, 1, 1, 0]]\n"
     ]
    }
   ],
   "source": [
    "fim=time.time()\n",
    "tempoExecucao= fim - inicio\n",
    "print\n",
    "print(\"Number of vertices in the graph:\", grafo.vcount())\n",
    "print(\"Number of edges in the graph\", grafo.ecount())\n",
    "print(\"Is the graph directed:\", grafo.is_directed())\n",
    "print(\"Maximum degree in the graph:\", grafo.maxdegree())\n",
    "print(\"Adjacency matrix:\\n\", grafo.get_adjacency())"
   ]
  }
 ],
 "metadata": {
  "kernelspec": {
   "display_name": "Python 3",
   "language": "python",
   "name": "python3"
  },
  "language_info": {
   "codemirror_mode": {
    "name": "ipython",
    "version": 3
   },
   "file_extension": ".py",
   "mimetype": "text/x-python",
   "name": "python",
   "nbconvert_exporter": "python",
   "pygments_lexer": "ipython3",
   "version": "3.7.6"
  }
 },
 "nbformat": 4,
 "nbformat_minor": 4
}
