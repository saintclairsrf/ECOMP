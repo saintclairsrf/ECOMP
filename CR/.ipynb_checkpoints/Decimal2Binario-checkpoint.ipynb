{
 "cells": [
  {
   "cell_type": "code",
   "execution_count": 1,
   "metadata": {},
   "outputs": [
    {
     "name": "stdout",
     "output_type": "stream",
     "text": [
      "O número decimal 0 em binário é 0000000000\n",
      "O número decimal 1 em binário é 0000000001\n",
      "O número decimal 2 em binário é 0000000010\n",
      "O número decimal 3 em binário é 0000000011\n",
      "O número decimal 4 em binário é 0000000100\n",
      "O número decimal 5 em binário é 0000000101\n",
      "O número decimal 6 em binário é 0000000110\n",
      "O número decimal 7 em binário é 0000000111\n"
     ]
    }
   ],
   "source": [
    "import math\n",
    "import numpy as np\n",
    "\n",
    "def criar_linha(mensagem):\n",
    "  print (\"\\n\",\"-\" * 80, mensagem, \"\\n\")\n",
    "  return\n",
    "         \n",
    "def Decimal2Binario(num):\n",
    "  s=(str(bin(num)))\n",
    "  s=s.replace(\"0b\",\"0000000000\")\n",
    "  #s=str(s).zfill(8-len(s))\n",
    "  s=s[-10:]\n",
    "         \n",
    "  print(\"O número decimal %s em binário é %s\"%(num,s))\n",
    "\n",
    "def loop(x):\n",
    "  i=0\n",
    "  n=2**x\n",
    "  while i<n:\n",
    "    Decimal2Binario(i)\n",
    "    i=i+1   \n",
    "  return\n",
    "\n",
    "def iniciar():\n",
    "\n",
    "  x=3\n",
    "  mensagem=\"Conversor Decimal para binário\"\n",
    "  loop(x)\n",
    "    \n",
    "if __name__ == '__main__':\n",
    "    iniciar()"
   ]
  },
  {
   "cell_type": "code",
   "execution_count": null,
   "metadata": {},
   "outputs": [],
   "source": []
  }
 ],
 "metadata": {
  "kernelspec": {
   "display_name": "Python 3",
   "language": "python",
   "name": "python3"
  },
  "language_info": {
   "codemirror_mode": {
    "name": "ipython",
    "version": 3
   },
   "file_extension": ".py",
   "mimetype": "text/x-python",
   "name": "python",
   "nbconvert_exporter": "python",
   "pygments_lexer": "ipython3",
   "version": "3.7.6"
  }
 },
 "nbformat": 4,
 "nbformat_minor": 4
}
