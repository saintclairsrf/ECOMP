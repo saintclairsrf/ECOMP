{
 "cells": [
  {
   "cell_type": "code",
   "execution_count": 1,
   "metadata": {},
   "outputs": [],
   "source": [
    "import numpy as np\n",
    "import igraph as ig\n",
    "from igraph import *\n",
    "import matplotlib as mpl\n",
    "import matplotlib.pyplot as plt"
   ]
  },
  {
   "cell_type": "code",
   "execution_count": 2,
   "metadata": {},
   "outputs": [],
   "source": [
    "# function to check if x is power of 2 \n",
    "def isPowerOfTwo( x ): \n",
    "  \n",
    "    # First x in the below expression is \n",
    "    # for the case when x is 0 \n",
    "    return x and (not(x & (x - 1))) \n",
    "  \n",
    "# function to check whether the two numbers \n",
    "# differ at one bit position only \n",
    "def differAtOneBitPos( a , b ): \n",
    "    return isPowerOfTwo(a ^ b) \n",
    "\n",
    "def graph(n):\n",
    "  vertices = 2 ** n\n",
    "  arestas = []\n",
    "  grafo = Graph()\n",
    "  grafo.add_vertices(vertices)\n",
    "\n",
    "  for x in range(vertices):\n",
    "    for y in range(vertices):\n",
    "      if (differAtOneBitPos(x, y)):\n",
    "        if (y,x) not in arestas:\n",
    "          arestas.append((x,y))\n",
    "\n",
    "  grafo.add_edges(arestas)\n",
    "\n",
    "  return grafo, arestas"
   ]
  },
  {
   "cell_type": "code",
   "execution_count": 17,
   "metadata": {},
   "outputs": [
    {
     "ename": "TypeError",
     "evalue": "object of type 'Graph' has no len()",
     "output_type": "error",
     "traceback": [
      "\u001b[1;31m---------------------------------------------------------------------------\u001b[0m",
      "\u001b[1;31mTypeError\u001b[0m                                 Traceback (most recent call last)",
      "\u001b[1;32m<ipython-input-17-ff566d7bbc22>\u001b[0m in \u001b[0;36m<module>\u001b[1;34m\u001b[0m\n\u001b[0;32m      2\u001b[0m \u001b[1;33m\u001b[0m\u001b[0m\n\u001b[0;32m      3\u001b[0m \u001b[1;31m#print(grafo)\u001b[0m\u001b[1;33m\u001b[0m\u001b[1;33m\u001b[0m\u001b[1;33m\u001b[0m\u001b[0m\n\u001b[1;32m----> 4\u001b[1;33m \u001b[0mprint\u001b[0m\u001b[1;33m(\u001b[0m\u001b[0mlen\u001b[0m\u001b[1;33m(\u001b[0m\u001b[0mgrafo\u001b[0m\u001b[1;33m)\u001b[0m\u001b[1;33m)\u001b[0m\u001b[1;33m\u001b[0m\u001b[1;33m\u001b[0m\u001b[0m\n\u001b[0m\u001b[0;32m      5\u001b[0m \u001b[1;31m#print(arestas)\u001b[0m\u001b[1;33m\u001b[0m\u001b[1;33m\u001b[0m\u001b[1;33m\u001b[0m\u001b[0m\n\u001b[0;32m      6\u001b[0m \u001b[0mvisual_style\u001b[0m \u001b[1;33m=\u001b[0m \u001b[1;33m{\u001b[0m\u001b[1;33m}\u001b[0m\u001b[1;33m\u001b[0m\u001b[1;33m\u001b[0m\u001b[0m\n",
      "\u001b[1;31mTypeError\u001b[0m: object of type 'Graph' has no len()"
     ]
    }
   ],
   "source": [
    "grafo, arestas = graph(5)\n",
    "\n",
    "#print(grafo)\n",
    "#print(arestas)\n",
    "visual_style = {}\n",
    "layout = grafo.layout(\"kk\")\n",
    "#plot(grafo, layout = layout)\n",
    "plot(grafo, vertex_label=[\"A\", \"B\", \"C\", \"D\", \"E\", \"F\", \"G\",\"H\",\"I\",\"J\",\"K\",\"L\",\"M\",\"N\",\"P\",\"Q\",\"R\",\"S\",\"T\",\"U\",\"V\",\"W\",\"X\",\"Y\",\"Z\"],layout = layout, vertex_color=\"Blue\", **visual_style)"
   ]
  },
  {
   "cell_type": "code",
   "execution_count": null,
   "metadata": {},
   "outputs": [],
   "source": []
  },
  {
   "cell_type": "code",
   "execution_count": null,
   "metadata": {},
   "outputs": [],
   "source": []
  }
 ],
 "metadata": {
  "kernelspec": {
   "display_name": "Python 3",
   "language": "python",
   "name": "python3"
  },
  "language_info": {
   "codemirror_mode": {
    "name": "ipython",
    "version": 3
   },
   "file_extension": ".py",
   "mimetype": "text/x-python",
   "name": "python",
   "nbconvert_exporter": "python",
   "pygments_lexer": "ipython3",
   "version": "3.7.6"
  }
 },
 "nbformat": 4,
 "nbformat_minor": 4
}
