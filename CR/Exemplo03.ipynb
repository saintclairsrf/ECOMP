{
 "cells": [
  {
   "cell_type": "code",
   "execution_count": 31,
   "metadata": {},
   "outputs": [
    {
     "name": "stdout",
     "output_type": "stream",
     "text": [
      "IGRAPH U--- 0 0 --\n"
     ]
    }
   ],
   "source": [
    "from igraph import *\n",
    "g = Graph()\n",
    "g = Graph(directed=False)\n",
    "print(g)"
   ]
  },
  {
   "cell_type": "code",
   "execution_count": 32,
   "metadata": {},
   "outputs": [],
   "source": [
    "# load data into a graph\n",
    "g = igraph.Graph.Read_Ncol(\"net.txt\")"
   ]
  },
  {
   "cell_type": "code",
   "execution_count": 33,
   "metadata": {},
   "outputs": [
    {
     "data": {
      "image/svg+xml": [
       "<?xml version=\"1.0\" encoding=\"UTF-8\"?>\n",
       "<svg xmlns=\"http://www.w3.org/2000/svg\" xmlns:xlink=\"http://www.w3.org/1999/xlink\" width=\"600pt\" height=\"600pt\" viewBox=\"0 0 600 600\" version=\"1.1\">\n",
       "<g id=\"surface116\">\n",
       "<rect x=\"0\" y=\"0\" width=\"600\" height=\"600\" style=\"fill:rgb(100%,100%,100%);fill-opacity:1;stroke:none;\"/>\n",
       "<path style=\"fill:none;stroke-width:1;stroke-linecap:butt;stroke-linejoin:miter;stroke:rgb(26.666667%,26.666667%,26.666667%);stroke-opacity:1;stroke-miterlimit:10;\" d=\"M 65.789063 25.792969 L 177.035156 151.910156 \"/>\n",
       "<path style=\" stroke:none;fill-rule:nonzero;fill:rgb(26.666667%,26.666667%,26.666667%);fill-opacity:1;\" d=\"M 186.472656 162.609375 L 173.558594 154.976563 L 180.511719 148.847656 L 186.472656 162.609375 \"/>\n",
       "<path style=\"fill:none;stroke-width:1;stroke-linecap:butt;stroke-linejoin:miter;stroke:rgb(26.666667%,26.666667%,26.666667%);stroke-opacity:1;stroke-miterlimit:10;\" d=\"M 193.085938 170.109375 L 43.753906 138.890625 \"/>\n",
       "<path style=\" stroke:none;fill-rule:nonzero;fill:rgb(26.666667%,26.666667%,26.666667%);fill-opacity:1;\" d=\"M 29.789063 135.972656 L 44.699219 134.351563 L 42.804688 143.425781 L 29.789063 135.972656 \"/>\n",
       "<path style=\"fill:none;stroke-width:1;stroke-linecap:butt;stroke-linejoin:miter;stroke:rgb(26.666667%,26.666667%,26.666667%);stroke-opacity:1;stroke-miterlimit:10;\" d=\"M 193.085938 170.109375 L 381.546875 165.613281 \"/>\n",
       "<path style=\" stroke:none;fill-rule:nonzero;fill:rgb(26.666667%,26.666667%,26.666667%);fill-opacity:1;\" d=\"M 395.808594 165.273438 L 381.660156 170.246094 L 381.4375 160.976563 L 395.808594 165.273438 \"/>\n",
       "<path style=\"fill:none;stroke-width:1;stroke-linecap:butt;stroke-linejoin:miter;stroke:rgb(26.666667%,26.666667%,26.666667%);stroke-opacity:1;stroke-miterlimit:10;\" d=\"M 20 133.925781 L 56.324219 48.140625 \"/>\n",
       "<path style=\" stroke:none;fill-rule:nonzero;fill:rgb(26.666667%,26.666667%,26.666667%);fill-opacity:1;\" d=\"M 61.886719 35.003906 L 60.59375 49.945313 L 52.058594 46.332031 L 61.886719 35.003906 \"/>\n",
       "<path style=\"fill:none;stroke-width:1;stroke-linecap:butt;stroke-linejoin:miter;stroke:rgb(26.666667%,26.666667%,26.666667%);stroke-opacity:1;stroke-miterlimit:10;\" d=\"M 283.0625 372.8125 L 202.933594 192.289063 \"/>\n",
       "<path style=\" stroke:none;fill-rule:nonzero;fill:rgb(26.666667%,26.666667%,26.666667%);fill-opacity:1;\" d=\"M 197.144531 179.25 L 207.167969 190.410156 L 198.695313 194.167969 L 197.144531 179.25 \"/>\n",
       "<path style=\"fill:none;stroke-width:1;stroke-linecap:butt;stroke-linejoin:miter;stroke:rgb(26.666667%,26.666667%,26.666667%);stroke-opacity:1;stroke-miterlimit:10;\" d=\"M 283.0625 372.8125 L 219.488281 541.792969 \"/>\n",
       "<path style=\" stroke:none;fill-rule:nonzero;fill:rgb(26.666667%,26.666667%,26.666667%);fill-opacity:1;\" d=\"M 214.464844 555.144531 L 215.148438 540.160156 L 223.828125 543.425781 L 214.464844 555.144531 \"/>\n",
       "<path style=\"fill:none;stroke-width:1;stroke-linecap:butt;stroke-linejoin:miter;stroke:rgb(26.666667%,26.666667%,26.666667%);stroke-opacity:1;stroke-miterlimit:10;\" d=\"M 311.460938 580 L 286.359375 396.855469 \"/>\n",
       "<path style=\" stroke:none;fill-rule:nonzero;fill:rgb(26.666667%,26.666667%,26.666667%);fill-opacity:1;\" d=\"M 284.421875 382.722656 L 290.949219 396.226563 L 281.765625 397.484375 L 284.421875 382.722656 \"/>\n",
       "<path style=\"fill:none;stroke-width:1;stroke-linecap:butt;stroke-linejoin:miter;stroke:rgb(26.666667%,26.666667%,26.666667%);stroke-opacity:1;stroke-miterlimit:10;\" d=\"M 311.460938 580 L 234.925781 568.199219 \"/>\n",
       "<path style=\" stroke:none;fill-rule:nonzero;fill:rgb(26.666667%,26.666667%,26.666667%);fill-opacity:1;\" d=\"M 220.828125 566.027344 L 235.632813 563.621094 L 234.21875 572.78125 L 220.828125 566.027344 \"/>\n",
       "<path style=\"fill:none;stroke-width:1;stroke-linecap:butt;stroke-linejoin:miter;stroke:rgb(26.666667%,26.666667%,26.666667%);stroke-opacity:1;stroke-miterlimit:10;\" d=\"M 405.808594 165.03125 L 295.40625 351.921875 \"/>\n",
       "<path style=\" stroke:none;fill-rule:nonzero;fill:rgb(26.666667%,26.666667%,26.666667%);fill-opacity:1;\" d=\"M 288.148438 364.203125 L 291.414063 349.5625 L 299.394531 354.277344 L 288.148438 364.203125 \"/>\n",
       "<path style=\"fill:none;stroke-width:1;stroke-linecap:butt;stroke-linejoin:miter;stroke:rgb(26.666667%,26.666667%,26.666667%);stroke-opacity:1;stroke-miterlimit:10;\" d=\"M 405.808594 165.03125 L 485.761719 40.421875 \"/>\n",
       "<path style=\" stroke:none;fill-rule:nonzero;fill:rgb(26.666667%,26.666667%,26.666667%);fill-opacity:1;\" d=\"M 493.46875 28.417969 L 489.664063 42.925781 L 481.863281 37.921875 L 493.46875 28.417969 \"/>\n",
       "<path style=\"fill:none;stroke-width:1;stroke-linecap:butt;stroke-linejoin:miter;stroke:rgb(26.666667%,26.666667%,26.666667%);stroke-opacity:1;stroke-miterlimit:10;\" d=\"M 498.867188 20 L 557.671875 45.015625 \"/>\n",
       "<path style=\" stroke:none;fill-rule:nonzero;fill:rgb(26.666667%,26.666667%,26.666667%);fill-opacity:1;\" d=\"M 570.796875 50.601563 L 555.855469 49.28125 L 559.484375 40.753906 L 570.796875 50.601563 \"/>\n",
       "<path style=\"fill:none;stroke-width:1;stroke-linecap:butt;stroke-linejoin:miter;stroke:rgb(26.666667%,26.666667%,26.666667%);stroke-opacity:1;stroke-miterlimit:10;\" d=\"M 580 54.515625 L 426.296875 152.035156 \"/>\n",
       "<path style=\" stroke:none;fill-rule:nonzero;fill:rgb(26.666667%,26.666667%,26.666667%);fill-opacity:1;\" d=\"M 414.25 159.675781 L 423.8125 148.121094 L 428.78125 155.949219 L 414.25 159.675781 \"/>\n",
       "<path style=\"fill:none;stroke-width:1;stroke-linecap:butt;stroke-linejoin:miter;stroke:rgb(26.666667%,26.666667%,26.666667%);stroke-opacity:1;stroke-miterlimit:10;\" d=\"M 558.289063 154.082031 L 430.011719 163.296875 \"/>\n",
       "<path style=\" stroke:none;fill-rule:nonzero;fill:rgb(26.666667%,26.666667%,26.666667%);fill-opacity:1;\" d=\"M 415.78125 164.316406 L 429.679688 158.671875 L 430.34375 167.917969 L 415.78125 164.316406 \"/>\n",
       "<path style=\"fill:none;stroke-width:1;stroke-linecap:butt;stroke-linejoin:miter;stroke:rgb(26.666667%,26.666667%,26.666667%);stroke-opacity:1;stroke-miterlimit:10;\" d=\"M 558.289063 154.082031 L 508.699219 42.183594 \"/>\n",
       "<path style=\" stroke:none;fill-rule:nonzero;fill:rgb(26.666667%,26.666667%,26.666667%);fill-opacity:1;\" d=\"M 502.917969 29.140625 L 512.9375 40.308594 L 504.460938 44.0625 L 502.917969 29.140625 \"/>\n",
       "<path style=\"fill:none;stroke-width:1;stroke-linecap:butt;stroke-linejoin:miter;stroke:rgb(26.666667%,26.666667%,26.666667%);stroke-opacity:1;stroke-miterlimit:10;\" d=\"M 558.289063 154.082031 L 574.828125 78.226563 \"/>\n",
       "<path style=\" stroke:none;fill-rule:nonzero;fill:rgb(26.666667%,26.666667%,26.666667%);fill-opacity:1;\" d=\"M 577.871094 64.289063 L 579.359375 79.214844 L 570.300781 77.238281 L 577.871094 64.289063 \"/>\n",
       "<path style=\"fill-rule:nonzero;fill:rgb(100%,0%,0%);fill-opacity:1;stroke-width:1;stroke-linecap:butt;stroke-linejoin:miter;stroke:rgb(0%,0%,0%);stroke-opacity:1;stroke-miterlimit:10;\" d=\"M 75.789063 25.792969 C 75.789063 31.316406 71.308594 35.792969 65.789063 35.792969 C 60.265625 35.792969 55.789063 31.316406 55.789063 25.792969 C 55.789063 20.269531 60.265625 15.792969 65.789063 15.792969 C 71.308594 15.792969 75.789063 20.269531 75.789063 25.792969 \"/>\n",
       "<path style=\"fill-rule:nonzero;fill:rgb(100%,0%,0%);fill-opacity:1;stroke-width:1;stroke-linecap:butt;stroke-linejoin:miter;stroke:rgb(0%,0%,0%);stroke-opacity:1;stroke-miterlimit:10;\" d=\"M 203.085938 170.109375 C 203.085938 175.632813 198.609375 180.109375 193.085938 180.109375 C 187.566406 180.109375 183.085938 175.632813 183.085938 170.109375 C 183.085938 164.585938 187.566406 160.109375 193.085938 160.109375 C 198.609375 160.109375 203.085938 164.585938 203.085938 170.109375 \"/>\n",
       "<path style=\"fill-rule:nonzero;fill:rgb(100%,0%,0%);fill-opacity:1;stroke-width:1;stroke-linecap:butt;stroke-linejoin:miter;stroke:rgb(0%,0%,0%);stroke-opacity:1;stroke-miterlimit:10;\" d=\"M 30 133.925781 C 30 139.449219 25.523438 143.925781 20 143.925781 C 14.476563 143.925781 10 139.449219 10 133.925781 C 10 128.402344 14.476563 123.925781 20 123.925781 C 25.523438 123.925781 30 128.402344 30 133.925781 \"/>\n",
       "<path style=\"fill-rule:nonzero;fill:rgb(100%,0%,0%);fill-opacity:1;stroke-width:1;stroke-linecap:butt;stroke-linejoin:miter;stroke:rgb(0%,0%,0%);stroke-opacity:1;stroke-miterlimit:10;\" d=\"M 415.808594 165.03125 C 415.808594 170.554688 411.328125 175.03125 405.808594 175.03125 C 400.285156 175.03125 395.808594 170.554688 395.808594 165.03125 C 395.808594 159.511719 400.285156 155.03125 405.808594 155.03125 C 411.328125 155.03125 415.808594 159.511719 415.808594 165.03125 \"/>\n",
       "<path style=\"fill-rule:nonzero;fill:rgb(100%,0%,0%);fill-opacity:1;stroke-width:1;stroke-linecap:butt;stroke-linejoin:miter;stroke:rgb(0%,0%,0%);stroke-opacity:1;stroke-miterlimit:10;\" d=\"M 293.0625 372.8125 C 293.0625 378.335938 288.585938 382.8125 283.0625 382.8125 C 277.539063 382.8125 273.0625 378.335938 273.0625 372.8125 C 273.0625 367.292969 277.539063 362.8125 283.0625 362.8125 C 288.585938 362.8125 293.0625 367.292969 293.0625 372.8125 \"/>\n",
       "<path style=\"fill-rule:nonzero;fill:rgb(100%,0%,0%);fill-opacity:1;stroke-width:1;stroke-linecap:butt;stroke-linejoin:miter;stroke:rgb(0%,0%,0%);stroke-opacity:1;stroke-miterlimit:10;\" d=\"M 220.945313 564.503906 C 220.945313 570.027344 216.464844 574.503906 210.945313 574.503906 C 205.421875 574.503906 200.945313 570.027344 200.945313 564.503906 C 200.945313 558.980469 205.421875 554.503906 210.945313 554.503906 C 216.464844 554.503906 220.945313 558.980469 220.945313 564.503906 \"/>\n",
       "<path style=\"fill-rule:nonzero;fill:rgb(100%,0%,0%);fill-opacity:1;stroke-width:1;stroke-linecap:butt;stroke-linejoin:miter;stroke:rgb(0%,0%,0%);stroke-opacity:1;stroke-miterlimit:10;\" d=\"M 321.460938 580 C 321.460938 585.523438 316.984375 590 311.460938 590 C 305.9375 590 301.460938 585.523438 301.460938 580 C 301.460938 574.476563 305.9375 570 311.460938 570 C 316.984375 570 321.460938 574.476563 321.460938 580 \"/>\n",
       "<path style=\"fill-rule:nonzero;fill:rgb(100%,0%,0%);fill-opacity:1;stroke-width:1;stroke-linecap:butt;stroke-linejoin:miter;stroke:rgb(0%,0%,0%);stroke-opacity:1;stroke-miterlimit:10;\" d=\"M 508.867188 20 C 508.867188 25.523438 504.390625 30 498.867188 30 C 493.34375 30 488.867188 25.523438 488.867188 20 C 488.867188 14.476563 493.34375 10 498.867188 10 C 504.390625 10 508.867188 14.476563 508.867188 20 \"/>\n",
       "<path style=\"fill-rule:nonzero;fill:rgb(100%,0%,0%);fill-opacity:1;stroke-width:1;stroke-linecap:butt;stroke-linejoin:miter;stroke:rgb(0%,0%,0%);stroke-opacity:1;stroke-miterlimit:10;\" d=\"M 590 54.515625 C 590 60.039063 585.523438 64.515625 580 64.515625 C 574.476563 64.515625 570 60.039063 570 54.515625 C 570 48.996094 574.476563 44.515625 580 44.515625 C 585.523438 44.515625 590 48.996094 590 54.515625 \"/>\n",
       "<path style=\"fill-rule:nonzero;fill:rgb(100%,0%,0%);fill-opacity:1;stroke-width:1;stroke-linecap:butt;stroke-linejoin:miter;stroke:rgb(0%,0%,0%);stroke-opacity:1;stroke-miterlimit:10;\" d=\"M 568.289063 154.082031 C 568.289063 159.605469 563.8125 164.082031 558.289063 164.082031 C 552.765625 164.082031 548.289063 159.605469 548.289063 154.082031 C 548.289063 148.558594 552.765625 144.082031 558.289063 144.082031 C 563.8125 144.082031 568.289063 148.558594 568.289063 154.082031 \"/>\n",
       "</g>\n",
       "</svg>\n"
      ],
      "text/plain": [
       "<igraph.drawing.Plot at 0x25d17930ac8>"
      ]
     },
     "execution_count": 33,
     "metadata": {
      "image/svg+xml": {
       "isolated": true
      }
     },
     "output_type": "execute_result"
    }
   ],
   "source": [
    "# plot graph\n",
    "igraph.plot(g)"
   ]
  },
  {
   "cell_type": "code",
   "execution_count": 34,
   "metadata": {},
   "outputs": [
    {
     "data": {
      "image/svg+xml": [
       "<?xml version=\"1.0\" encoding=\"UTF-8\"?>\n",
       "<svg xmlns=\"http://www.w3.org/2000/svg\" xmlns:xlink=\"http://www.w3.org/1999/xlink\" width=\"600pt\" height=\"600pt\" viewBox=\"0 0 600 600\" version=\"1.1\">\n",
       "<g id=\"surface122\">\n",
       "<rect x=\"0\" y=\"0\" width=\"600\" height=\"600\" style=\"fill:rgb(100%,100%,100%);fill-opacity:1;stroke:none;\"/>\n",
       "<path style=\"fill:none;stroke-width:1;stroke-linecap:butt;stroke-linejoin:miter;stroke:rgb(26.666667%,26.666667%,26.666667%);stroke-opacity:1;stroke-miterlimit:10;\" d=\"M 323.675781 328.230469 L 164.515625 401.390625 \"/>\n",
       "<path style=\"fill:none;stroke-width:1;stroke-linecap:butt;stroke-linejoin:miter;stroke:rgb(26.666667%,26.666667%,26.666667%);stroke-opacity:1;stroke-miterlimit:10;\" d=\"M 323.675781 328.230469 L 412.105469 171.652344 \"/>\n",
       "<path style=\"fill:none;stroke-width:1;stroke-linecap:butt;stroke-linejoin:miter;stroke:rgb(26.666667%,26.666667%,26.666667%);stroke-opacity:1;stroke-miterlimit:10;\" d=\"M 323.675781 328.230469 L 437.21875 462.148438 \"/>\n",
       "<path style=\"fill:none;stroke-width:1;stroke-linecap:butt;stroke-linejoin:miter;stroke:rgb(26.666667%,26.666667%,26.666667%);stroke-opacity:1;stroke-miterlimit:10;\" d=\"M 164.515625 401.390625 L 178.101563 580 \"/>\n",
       "<path style=\"fill:none;stroke-width:1;stroke-linecap:butt;stroke-linejoin:miter;stroke:rgb(26.666667%,26.666667%,26.666667%);stroke-opacity:1;stroke-miterlimit:10;\" d=\"M 164.515625 401.390625 L 20 480.324219 \"/>\n",
       "<path style=\"fill:none;stroke-width:1;stroke-linecap:butt;stroke-linejoin:miter;stroke:rgb(26.666667%,26.666667%,26.666667%);stroke-opacity:1;stroke-miterlimit:10;\" d=\"M 164.515625 401.390625 L 31.15625 291.324219 \"/>\n",
       "<path style=\"fill:none;stroke-width:1;stroke-linecap:butt;stroke-linejoin:miter;stroke:rgb(26.666667%,26.666667%,26.666667%);stroke-opacity:1;stroke-miterlimit:10;\" d=\"M 412.105469 171.652344 L 323.566406 20 \"/>\n",
       "<path style=\"fill:none;stroke-width:1;stroke-linecap:butt;stroke-linejoin:miter;stroke:rgb(26.666667%,26.666667%,26.666667%);stroke-opacity:1;stroke-miterlimit:10;\" d=\"M 412.105469 171.652344 L 504.273438 30.972656 \"/>\n",
       "<path style=\"fill:none;stroke-width:1;stroke-linecap:butt;stroke-linejoin:miter;stroke:rgb(26.666667%,26.666667%,26.666667%);stroke-opacity:1;stroke-miterlimit:10;\" d=\"M 412.105469 171.652344 L 580 207.085938 \"/>\n",
       "<path style=\"fill-rule:nonzero;fill:rgb(100%,0%,0%);fill-opacity:1;stroke-width:1;stroke-linecap:butt;stroke-linejoin:miter;stroke:rgb(0%,0%,0%);stroke-opacity:1;stroke-miterlimit:10;\" d=\"M 333.675781 328.230469 C 333.675781 333.753906 329.199219 338.230469 323.675781 338.230469 C 318.152344 338.230469 313.675781 333.753906 313.675781 328.230469 C 313.675781 322.707031 318.152344 318.230469 323.675781 318.230469 C 329.199219 318.230469 333.675781 322.707031 333.675781 328.230469 \"/>\n",
       "<path style=\"fill-rule:nonzero;fill:rgb(100%,0%,0%);fill-opacity:1;stroke-width:1;stroke-linecap:butt;stroke-linejoin:miter;stroke:rgb(0%,0%,0%);stroke-opacity:1;stroke-miterlimit:10;\" d=\"M 174.515625 401.390625 C 174.515625 406.910156 170.035156 411.390625 164.515625 411.390625 C 158.992188 411.390625 154.515625 406.910156 154.515625 401.390625 C 154.515625 395.867188 158.992188 391.390625 164.515625 391.390625 C 170.035156 391.390625 174.515625 395.867188 174.515625 401.390625 \"/>\n",
       "<path style=\"fill-rule:nonzero;fill:rgb(100%,0%,0%);fill-opacity:1;stroke-width:1;stroke-linecap:butt;stroke-linejoin:miter;stroke:rgb(0%,0%,0%);stroke-opacity:1;stroke-miterlimit:10;\" d=\"M 422.105469 171.652344 C 422.105469 177.171875 417.628906 181.652344 412.105469 181.652344 C 406.585938 181.652344 402.105469 177.171875 402.105469 171.652344 C 402.105469 166.128906 406.585938 161.652344 412.105469 161.652344 C 417.628906 161.652344 422.105469 166.128906 422.105469 171.652344 \"/>\n",
       "<path style=\"fill-rule:nonzero;fill:rgb(100%,0%,0%);fill-opacity:1;stroke-width:1;stroke-linecap:butt;stroke-linejoin:miter;stroke:rgb(0%,0%,0%);stroke-opacity:1;stroke-miterlimit:10;\" d=\"M 447.21875 462.148438 C 447.21875 467.671875 442.742188 472.148438 437.21875 472.148438 C 431.699219 472.148438 427.21875 467.671875 427.21875 462.148438 C 427.21875 456.625 431.699219 452.148438 437.21875 452.148438 C 442.742188 452.148438 447.21875 456.625 447.21875 462.148438 \"/>\n",
       "<path style=\"fill-rule:nonzero;fill:rgb(100%,0%,0%);fill-opacity:1;stroke-width:1;stroke-linecap:butt;stroke-linejoin:miter;stroke:rgb(0%,0%,0%);stroke-opacity:1;stroke-miterlimit:10;\" d=\"M 188.101563 580 C 188.101563 585.523438 183.625 590 178.101563 590 C 172.578125 590 168.101563 585.523438 168.101563 580 C 168.101563 574.476563 172.578125 570 178.101563 570 C 183.625 570 188.101563 574.476563 188.101563 580 \"/>\n",
       "<path style=\"fill-rule:nonzero;fill:rgb(100%,0%,0%);fill-opacity:1;stroke-width:1;stroke-linecap:butt;stroke-linejoin:miter;stroke:rgb(0%,0%,0%);stroke-opacity:1;stroke-miterlimit:10;\" d=\"M 30 480.324219 C 30 485.847656 25.523438 490.324219 20 490.324219 C 14.476563 490.324219 10 485.847656 10 480.324219 C 10 474.800781 14.476563 470.324219 20 470.324219 C 25.523438 470.324219 30 474.800781 30 480.324219 \"/>\n",
       "<path style=\"fill-rule:nonzero;fill:rgb(100%,0%,0%);fill-opacity:1;stroke-width:1;stroke-linecap:butt;stroke-linejoin:miter;stroke:rgb(0%,0%,0%);stroke-opacity:1;stroke-miterlimit:10;\" d=\"M 41.15625 291.324219 C 41.15625 296.847656 36.679688 301.324219 31.15625 301.324219 C 25.632813 301.324219 21.15625 296.847656 21.15625 291.324219 C 21.15625 285.800781 25.632813 281.324219 31.15625 281.324219 C 36.679688 281.324219 41.15625 285.800781 41.15625 291.324219 \"/>\n",
       "<path style=\"fill-rule:nonzero;fill:rgb(100%,0%,0%);fill-opacity:1;stroke-width:1;stroke-linecap:butt;stroke-linejoin:miter;stroke:rgb(0%,0%,0%);stroke-opacity:1;stroke-miterlimit:10;\" d=\"M 333.566406 20 C 333.566406 25.523438 329.089844 30 323.566406 30 C 318.042969 30 313.566406 25.523438 313.566406 20 C 313.566406 14.476563 318.042969 10 323.566406 10 C 329.089844 10 333.566406 14.476563 333.566406 20 \"/>\n",
       "<path style=\"fill-rule:nonzero;fill:rgb(100%,0%,0%);fill-opacity:1;stroke-width:1;stroke-linecap:butt;stroke-linejoin:miter;stroke:rgb(0%,0%,0%);stroke-opacity:1;stroke-miterlimit:10;\" d=\"M 514.273438 30.972656 C 514.273438 36.496094 509.796875 40.972656 504.273438 40.972656 C 498.75 40.972656 494.273438 36.496094 494.273438 30.972656 C 494.273438 25.453125 498.75 20.972656 504.273438 20.972656 C 509.796875 20.972656 514.273438 25.453125 514.273438 30.972656 \"/>\n",
       "<path style=\"fill-rule:nonzero;fill:rgb(100%,0%,0%);fill-opacity:1;stroke-width:1;stroke-linecap:butt;stroke-linejoin:miter;stroke:rgb(0%,0%,0%);stroke-opacity:1;stroke-miterlimit:10;\" d=\"M 590 207.085938 C 590 212.609375 585.523438 217.085938 580 217.085938 C 574.476563 217.085938 570 212.609375 570 207.085938 C 570 201.5625 574.476563 197.085938 580 197.085938 C 585.523438 197.085938 590 201.5625 590 207.085938 \"/>\n",
       "</g>\n",
       "</svg>\n"
      ],
      "text/plain": [
       "<igraph.drawing.Plot at 0x25d17937188>"
      ]
     },
     "execution_count": 34,
     "metadata": {
      "image/svg+xml": {
       "isolated": true
      }
     },
     "output_type": "execute_result"
    }
   ],
   "source": [
    "from igraph import *\n",
    "#g = Graph()\n",
    "g = Graph.Tree(10,3)\n",
    "plot(g)"
   ]
  },
  {
   "cell_type": "code",
   "execution_count": 35,
   "metadata": {},
   "outputs": [
    {
     "data": {
      "image/svg+xml": [
       "<?xml version=\"1.0\" encoding=\"UTF-8\"?>\n",
       "<svg xmlns=\"http://www.w3.org/2000/svg\" xmlns:xlink=\"http://www.w3.org/1999/xlink\" width=\"600pt\" height=\"600pt\" viewBox=\"0 0 600 600\" version=\"1.1\">\n",
       "<g id=\"surface128\">\n",
       "<rect x=\"0\" y=\"0\" width=\"600\" height=\"600\" style=\"fill:rgb(100%,100%,100%);fill-opacity:1;stroke:none;\"/>\n",
       "<path style=\"fill:none;stroke-width:1;stroke-linecap:butt;stroke-linejoin:miter;stroke:rgb(26.666667%,26.666667%,26.666667%);stroke-opacity:1;stroke-miterlimit:10;\" d=\"M 20 20 L 406.820313 578.578125 \"/>\n",
       "<path style=\"fill:none;stroke-width:1;stroke-linecap:butt;stroke-linejoin:miter;stroke:rgb(26.666667%,26.666667%,26.666667%);stroke-opacity:1;stroke-miterlimit:10;\" d=\"M 20 20 L 423.804688 49.507813 \"/>\n",
       "<path style=\"fill:none;stroke-width:1;stroke-linecap:butt;stroke-linejoin:miter;stroke:rgb(26.666667%,26.666667%,26.666667%);stroke-opacity:1;stroke-miterlimit:10;\" d=\"M 20 20 L 580 580 \"/>\n",
       "<path style=\"fill:none;stroke-width:1;stroke-linecap:butt;stroke-linejoin:miter;stroke:rgb(26.666667%,26.666667%,26.666667%);stroke-opacity:1;stroke-miterlimit:10;\" d=\"M 406.820313 578.578125 L 423.804688 49.507813 \"/>\n",
       "<path style=\"fill:none;stroke-width:1;stroke-linecap:butt;stroke-linejoin:miter;stroke:rgb(26.666667%,26.666667%,26.666667%);stroke-opacity:1;stroke-miterlimit:10;\" d=\"M 406.820313 578.578125 L 580 580 \"/>\n",
       "<path style=\"fill:none;stroke-width:1;stroke-linecap:butt;stroke-linejoin:miter;stroke:rgb(26.666667%,26.666667%,26.666667%);stroke-opacity:1;stroke-miterlimit:10;\" d=\"M 423.804688 49.507813 L 580 580 \"/>\n",
       "<path style=\"fill-rule:nonzero;fill:rgb(100%,0%,0%);fill-opacity:1;stroke-width:1;stroke-linecap:butt;stroke-linejoin:miter;stroke:rgb(0%,0%,0%);stroke-opacity:1;stroke-miterlimit:10;\" d=\"M 30 20 C 30 25.523438 25.523438 30 20 30 C 14.476563 30 10 25.523438 10 20 C 10 14.476563 14.476563 10 20 10 C 25.523438 10 30 14.476563 30 20 \"/>\n",
       "<path style=\"fill-rule:nonzero;fill:rgb(100%,0%,0%);fill-opacity:1;stroke-width:1;stroke-linecap:butt;stroke-linejoin:miter;stroke:rgb(0%,0%,0%);stroke-opacity:1;stroke-miterlimit:10;\" d=\"M 416.820313 578.578125 C 416.820313 584.101563 412.339844 588.578125 406.820313 588.578125 C 401.296875 588.578125 396.820313 584.101563 396.820313 578.578125 C 396.820313 573.058594 401.296875 568.578125 406.820313 568.578125 C 412.339844 568.578125 416.820313 573.058594 416.820313 578.578125 \"/>\n",
       "<path style=\"fill-rule:nonzero;fill:rgb(100%,0%,0%);fill-opacity:1;stroke-width:1;stroke-linecap:butt;stroke-linejoin:miter;stroke:rgb(0%,0%,0%);stroke-opacity:1;stroke-miterlimit:10;\" d=\"M 433.804688 49.507813 C 433.804688 55.03125 429.328125 59.507813 423.804688 59.507813 C 418.285156 59.507813 413.804688 55.03125 413.804688 49.507813 C 413.804688 43.984375 418.285156 39.507813 423.804688 39.507813 C 429.328125 39.507813 433.804688 43.984375 433.804688 49.507813 \"/>\n",
       "<path style=\"fill-rule:nonzero;fill:rgb(100%,0%,0%);fill-opacity:1;stroke-width:1;stroke-linecap:butt;stroke-linejoin:miter;stroke:rgb(0%,0%,0%);stroke-opacity:1;stroke-miterlimit:10;\" d=\"M 590 580 C 590 585.523438 585.523438 590 580 590 C 574.476563 590 570 585.523438 570 580 C 570 574.476563 574.476563 570 580 570 C 585.523438 570 590 574.476563 590 580 \"/>\n",
       "</g>\n",
       "</svg>\n"
      ],
      "text/plain": [
       "<igraph.drawing.Plot at 0x25d17930f88>"
      ]
     },
     "execution_count": 35,
     "metadata": {
      "image/svg+xml": {
       "isolated": true
      }
     },
     "output_type": "execute_result"
    }
   ],
   "source": [
    "from igraph import *\n",
    "g = Graph.GRG(4,1)\n",
    "plot(g)"
   ]
  },
  {
   "cell_type": "code",
   "execution_count": 36,
   "metadata": {},
   "outputs": [
    {
     "name": "stdout",
     "output_type": "stream",
     "text": [
      "IGRAPH D--- 2 1 --\n",
      "+ edges:\n",
      "0->1\n"
     ]
    }
   ],
   "source": [
    "g = Graph(directed=True)\n",
    "g.add_vertices(2)\n",
    "g.add_edges([(0,1)])\n",
    "g.degree(mode=\"in\")     # -> [0, 1]\n",
    "g.degree(mode=\"out\")    # -> [1, 0]\n",
    "print(g)"
   ]
  },
  {
   "cell_type": "code",
   "execution_count": 37,
   "metadata": {},
   "outputs": [
    {
     "name": "stdout",
     "output_type": "stream",
     "text": [
      "IGRAPH U--- 0 0 --\n"
     ]
    }
   ],
   "source": [
    "import igraph\n",
    "g=Graph()\n",
    "g = Graph(directed=False)\n",
    "print(g)"
   ]
  },
  {
   "cell_type": "code",
   "execution_count": null,
   "metadata": {},
   "outputs": [],
   "source": []
  },
  {
   "cell_type": "code",
   "execution_count": null,
   "metadata": {},
   "outputs": [],
   "source": []
  },
  {
   "cell_type": "code",
   "execution_count": null,
   "metadata": {},
   "outputs": [],
   "source": []
  },
  {
   "cell_type": "code",
   "execution_count": null,
   "metadata": {},
   "outputs": [],
   "source": []
  }
 ],
 "metadata": {
  "kernelspec": {
   "display_name": "Python 3",
   "language": "python",
   "name": "python3"
  },
  "language_info": {
   "codemirror_mode": {
    "name": "ipython",
    "version": 3
   },
   "file_extension": ".py",
   "mimetype": "text/x-python",
   "name": "python",
   "nbconvert_exporter": "python",
   "pygments_lexer": "ipython3",
   "version": "3.7.6"
  }
 },
 "nbformat": 4,
 "nbformat_minor": 4
}
